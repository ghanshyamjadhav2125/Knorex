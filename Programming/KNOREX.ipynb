{
 "cells": [
  {
   "cell_type": "markdown",
   "metadata": {},
   "source": [
    "Problem 1"
   ]
  },
  {
   "cell_type": "code",
   "execution_count": 1,
   "metadata": {},
   "outputs": [
    {
     "name": "stdout",
     "output_type": "stream",
     "text": [
      "Sorted phone numbers by state:\n",
      "       STATE  PHONE_NUMBER\n",
      "0    Alabama  205-187-3946\n",
      "1    Alabama  205-255-6983\n",
      "2    Alabama  205-938-8632\n",
      "3    Alabama  205-662-8389\n",
      "4    Alabama  205-374-9162\n",
      "5     Alaska  907-314-9167\n",
      "6     Alaska  907-146-9975\n",
      "7     Alaska  907-683-7493\n",
      "8     Alaska  907-316-9144\n",
      "11   Arizona  480-132-7865\n",
      "9    Arizona  480-364-9536\n",
      "10   Arizona  480-468-6769\n",
      "12  Arkansas  479-172-2272\n",
      "13  Arkansas  479-742-6763\n",
      "14  Arkansas  479-896-3819\n",
      "15  Arkansas  479-142-6152\n",
      "16  Arkansas  479-117-4115\n",
      "18   Florida  239-499-7963\n",
      "17   Florida  239-911-4469\n",
      "19   Florida  239-486-9335\n"
     ]
    }
   ],
   "source": [
    "\n",
    "states = [\n",
    "    \"Alabama\", \"Alaska\", \"Arizona\", \"Arkansas\", \"California\", \"Colorado\", \"Connecticut\", \"Delaware\", \n",
    "    \"District of Columbia\", \"Florida\"\n",
    "]\n",
    "phone_prefixes = [\n",
    "    \"205\", \"907\", \"480\", \"479\", \"209\", \"303\", \"203\", \"302\", \"202\", \"239\"\n",
    "]\n",
    "phone_numbers = [\n",
    "    \"205-187-3946\", \"205-255-6983\", \"479-172-2272\", \"239-911-4469\", \"205-938-8632\", \"480-364-9536\", \n",
    "    \"205-662-8389\", \"479-742-6763\", \"479-896-3819\", \"480-468-6769\", \"907-314-9167\", \"205-374-9162\", \n",
    "    \"479-142-6152\", \"907-146-9975\", \"479-117-4115\", \"907-683-7493\", \"239-499-7963\", \"239-486-9335\", \n",
    "    \"480-132-7865\", \"907-316-9144\"\n",
    "]\n",
    "\n",
    "\n",
    "import pandas as pd\n",
    "\n",
    "data = {\n",
    "    \"STATE\": states,\n",
    "    \"PREFIX\": phone_prefixes\n",
    "}\n",
    "state_df = pd.DataFrame(data)\n",
    "\n",
    "\n",
    "phone_df = pd.DataFrame({\n",
    "    \"PHONE_NUMBER\": phone_numbers,\n",
    "    \"PREFIX\": [num.split(\"-\")[0] for num in phone_numbers]\n",
    "})\n",
    "\n",
    "\n",
    "# Merge the two DataFrames on PREFIX and sort by STATE\n",
    "merged_df = pd.merge(state_df, phone_df, on=\"PREFIX\").sort_values(\"STATE\")\n",
    "\n",
    "print(\"Sorted phone numbers by state:\")\n",
    "print(merged_df[[\"STATE\", \"PHONE_NUMBER\"]])"
   ]
  },
  {
   "cell_type": "markdown",
   "metadata": {},
   "source": [
    "Problem 2 "
   ]
  },
  {
   "cell_type": "code",
   "execution_count": 2,
   "metadata": {},
   "outputs": [
    {
     "name": "stdout",
     "output_type": "stream",
     "text": [
      "Generated random key: 39yRGRTnmwvG0s0bwEY2\n"
     ]
    }
   ],
   "source": [
    "import random\n",
    "import string\n",
    "\n",
    "def generate_random_key():\n",
    "    \n",
    "    chars = string.ascii_letters + string.digits\n",
    "    # Generate 20 characters\n",
    "    return ''.join(random.choice(chars) for _ in range(20))\n",
    "\n",
    "print(\"Generated random key:\", generate_random_key())"
   ]
  }
 ],
 "metadata": {
  "kernelspec": {
   "display_name": "Python 3",
   "language": "python",
   "name": "python3"
  },
  "language_info": {
   "codemirror_mode": {
    "name": "ipython",
    "version": 3
   },
   "file_extension": ".py",
   "mimetype": "text/x-python",
   "name": "python",
   "nbconvert_exporter": "python",
   "pygments_lexer": "ipython3",
   "version": "3.12.3"
  }
 },
 "nbformat": 4,
 "nbformat_minor": 2
}
